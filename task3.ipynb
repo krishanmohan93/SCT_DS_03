{
 "cells": [
  {
   "cell_type": "code",
   "execution_count": 2,
   "id": "52ab1f05-e20f-48fd-9fdc-db323ea6ede8",
   "metadata": {},
   "outputs": [],
   "source": [
    "# Import necessary libraries\n",
    "import pandas as pd\n",
    "from sklearn.model_selection import train_test_split\n",
    "from sklearn.preprocessing import LabelEncoder\n",
    "from sklearn.tree import DecisionTreeClassifier\n",
    "from sklearn.metrics import classification_report, accuracy_score\n",
    "import matplotlib.pyplot as plt\n",
    "from imblearn.over_sampling import SMOTE  # Import SMOTE for oversampling\n"
   ]
  },
  {
   "cell_type": "code",
   "execution_count": 3,
   "id": "39618672-558a-4b1f-8bf7-a82a675e7e39",
   "metadata": {},
   "outputs": [
    {
     "data": {
      "text/html": [
       "<div>\n",
       "<style scoped>\n",
       "    .dataframe tbody tr th:only-of-type {\n",
       "        vertical-align: middle;\n",
       "    }\n",
       "\n",
       "    .dataframe tbody tr th {\n",
       "        vertical-align: top;\n",
       "    }\n",
       "\n",
       "    .dataframe thead th {\n",
       "        text-align: right;\n",
       "    }\n",
       "</style>\n",
       "<table border=\"1\" class=\"dataframe\">\n",
       "  <thead>\n",
       "    <tr style=\"text-align: right;\">\n",
       "      <th></th>\n",
       "      <th>age</th>\n",
       "      <th>job</th>\n",
       "      <th>marital</th>\n",
       "      <th>education</th>\n",
       "      <th>balance</th>\n",
       "      <th>contact</th>\n",
       "      <th>campaign</th>\n",
       "      <th>previous</th>\n",
       "      <th>poutcome</th>\n",
       "      <th>purchase_product</th>\n",
       "      <th>purchase_service</th>\n",
       "    </tr>\n",
       "  </thead>\n",
       "  <tbody>\n",
       "    <tr>\n",
       "      <th>0</th>\n",
       "      <td>56</td>\n",
       "      <td>services</td>\n",
       "      <td>divorced</td>\n",
       "      <td>secondary</td>\n",
       "      <td>43740</td>\n",
       "      <td>telephone</td>\n",
       "      <td>3</td>\n",
       "      <td>6</td>\n",
       "      <td>success</td>\n",
       "      <td>1</td>\n",
       "      <td>0</td>\n",
       "    </tr>\n",
       "    <tr>\n",
       "      <th>1</th>\n",
       "      <td>46</td>\n",
       "      <td>technician</td>\n",
       "      <td>married</td>\n",
       "      <td>tertiary</td>\n",
       "      <td>39075</td>\n",
       "      <td>telephone</td>\n",
       "      <td>17</td>\n",
       "      <td>8</td>\n",
       "      <td>failure</td>\n",
       "      <td>0</td>\n",
       "      <td>0</td>\n",
       "    </tr>\n",
       "    <tr>\n",
       "      <th>2</th>\n",
       "      <td>32</td>\n",
       "      <td>management</td>\n",
       "      <td>married</td>\n",
       "      <td>tertiary</td>\n",
       "      <td>2956</td>\n",
       "      <td>telephone</td>\n",
       "      <td>28</td>\n",
       "      <td>5</td>\n",
       "      <td>unknown</td>\n",
       "      <td>0</td>\n",
       "      <td>1</td>\n",
       "    </tr>\n",
       "    <tr>\n",
       "      <th>3</th>\n",
       "      <td>60</td>\n",
       "      <td>admin</td>\n",
       "      <td>married</td>\n",
       "      <td>primary</td>\n",
       "      <td>8195</td>\n",
       "      <td>unknown</td>\n",
       "      <td>19</td>\n",
       "      <td>7</td>\n",
       "      <td>unknown</td>\n",
       "      <td>0</td>\n",
       "      <td>0</td>\n",
       "    </tr>\n",
       "    <tr>\n",
       "      <th>4</th>\n",
       "      <td>25</td>\n",
       "      <td>services</td>\n",
       "      <td>married</td>\n",
       "      <td>tertiary</td>\n",
       "      <td>15076</td>\n",
       "      <td>cellular</td>\n",
       "      <td>14</td>\n",
       "      <td>5</td>\n",
       "      <td>success</td>\n",
       "      <td>1</td>\n",
       "      <td>1</td>\n",
       "    </tr>\n",
       "  </tbody>\n",
       "</table>\n",
       "</div>"
      ],
      "text/plain": [
       "   age         job   marital  education  balance    contact  campaign  \\\n",
       "0   56    services  divorced  secondary    43740  telephone         3   \n",
       "1   46  technician   married   tertiary    39075  telephone        17   \n",
       "2   32  management   married   tertiary     2956  telephone        28   \n",
       "3   60       admin   married    primary     8195    unknown        19   \n",
       "4   25    services   married   tertiary    15076   cellular        14   \n",
       "\n",
       "   previous poutcome  purchase_product  purchase_service  \n",
       "0         6  success                 1                 0  \n",
       "1         8  failure                 0                 0  \n",
       "2         5  unknown                 0                 1  \n",
       "3         7  unknown                 0                 0  \n",
       "4         5  success                 1                 1  "
      ]
     },
     "execution_count": 3,
     "metadata": {},
     "output_type": "execute_result"
    }
   ],
   "source": [
    "# Load the dataset\n",
    "data=pd.read_csv(\"task3.csv\")\n",
    "data.head()"
   ]
  },
  {
   "cell_type": "code",
   "execution_count": 4,
   "id": "faaeff13-aaa2-46c5-920f-d3625b96174e",
   "metadata": {},
   "outputs": [
    {
     "data": {
      "text/plain": [
       "(1000, 11)"
      ]
     },
     "execution_count": 4,
     "metadata": {},
     "output_type": "execute_result"
    }
   ],
   "source": [
    "data.shape"
   ]
  },
  {
   "cell_type": "code",
   "execution_count": 5,
   "id": "e4c2905d-f6b0-460d-88c2-2fe9e5f292f0",
   "metadata": {},
   "outputs": [
    {
     "data": {
      "text/plain": [
       "age                 0\n",
       "job                 0\n",
       "marital             0\n",
       "education           0\n",
       "balance             0\n",
       "contact             0\n",
       "campaign            0\n",
       "previous            0\n",
       "poutcome            0\n",
       "purchase_product    0\n",
       "purchase_service    0\n",
       "dtype: int64"
      ]
     },
     "execution_count": 5,
     "metadata": {},
     "output_type": "execute_result"
    }
   ],
   "source": [
    "# Checks for null values \n",
    "data.isnull().sum()"
   ]
  },
  {
   "cell_type": "code",
   "execution_count": 6,
   "id": "0fbe63ef-334a-45fc-956a-e10a5a90c3a6",
   "metadata": {},
   "outputs": [
    {
     "data": {
      "text/plain": [
       "0"
      ]
     },
     "execution_count": 6,
     "metadata": {},
     "output_type": "execute_result"
    }
   ],
   "source": [
    "# checks for Duplicates\n",
    "data.duplicated().sum()"
   ]
  },
  {
   "cell_type": "code",
   "execution_count": 9,
   "id": "d6a08ba7-457f-4a8e-be8b-2a0553bea833",
   "metadata": {},
   "outputs": [
    {
     "data": {
      "text/html": [
       "<div>\n",
       "<style scoped>\n",
       "    .dataframe tbody tr th:only-of-type {\n",
       "        vertical-align: middle;\n",
       "    }\n",
       "\n",
       "    .dataframe tbody tr th {\n",
       "        vertical-align: top;\n",
       "    }\n",
       "\n",
       "    .dataframe thead th {\n",
       "        text-align: right;\n",
       "    }\n",
       "</style>\n",
       "<table border=\"1\" class=\"dataframe\">\n",
       "  <thead>\n",
       "    <tr style=\"text-align: right;\">\n",
       "      <th></th>\n",
       "      <th>age</th>\n",
       "      <th>job</th>\n",
       "      <th>marital</th>\n",
       "      <th>education</th>\n",
       "      <th>balance</th>\n",
       "      <th>contact</th>\n",
       "      <th>campaign</th>\n",
       "      <th>previous</th>\n",
       "      <th>poutcome</th>\n",
       "      <th>purchase_product</th>\n",
       "      <th>purchase_service</th>\n",
       "      <th>purchase</th>\n",
       "    </tr>\n",
       "  </thead>\n",
       "  <tbody>\n",
       "    <tr>\n",
       "      <th>0</th>\n",
       "      <td>56</td>\n",
       "      <td>3</td>\n",
       "      <td>0</td>\n",
       "      <td>1</td>\n",
       "      <td>43740</td>\n",
       "      <td>1</td>\n",
       "      <td>3</td>\n",
       "      <td>6</td>\n",
       "      <td>1</td>\n",
       "      <td>1</td>\n",
       "      <td>0</td>\n",
       "      <td>1</td>\n",
       "    </tr>\n",
       "    <tr>\n",
       "      <th>1</th>\n",
       "      <td>46</td>\n",
       "      <td>4</td>\n",
       "      <td>1</td>\n",
       "      <td>2</td>\n",
       "      <td>39075</td>\n",
       "      <td>1</td>\n",
       "      <td>17</td>\n",
       "      <td>8</td>\n",
       "      <td>0</td>\n",
       "      <td>0</td>\n",
       "      <td>0</td>\n",
       "      <td>0</td>\n",
       "    </tr>\n",
       "    <tr>\n",
       "      <th>2</th>\n",
       "      <td>32</td>\n",
       "      <td>2</td>\n",
       "      <td>1</td>\n",
       "      <td>2</td>\n",
       "      <td>2956</td>\n",
       "      <td>1</td>\n",
       "      <td>28</td>\n",
       "      <td>5</td>\n",
       "      <td>2</td>\n",
       "      <td>0</td>\n",
       "      <td>1</td>\n",
       "      <td>2</td>\n",
       "    </tr>\n",
       "    <tr>\n",
       "      <th>3</th>\n",
       "      <td>60</td>\n",
       "      <td>0</td>\n",
       "      <td>1</td>\n",
       "      <td>0</td>\n",
       "      <td>8195</td>\n",
       "      <td>2</td>\n",
       "      <td>19</td>\n",
       "      <td>7</td>\n",
       "      <td>2</td>\n",
       "      <td>0</td>\n",
       "      <td>0</td>\n",
       "      <td>0</td>\n",
       "    </tr>\n",
       "    <tr>\n",
       "      <th>4</th>\n",
       "      <td>25</td>\n",
       "      <td>3</td>\n",
       "      <td>1</td>\n",
       "      <td>2</td>\n",
       "      <td>15076</td>\n",
       "      <td>0</td>\n",
       "      <td>14</td>\n",
       "      <td>5</td>\n",
       "      <td>1</td>\n",
       "      <td>1</td>\n",
       "      <td>1</td>\n",
       "      <td>3</td>\n",
       "    </tr>\n",
       "  </tbody>\n",
       "</table>\n",
       "</div>"
      ],
      "text/plain": [
       "   age  job  marital  education  balance  contact  campaign  previous  \\\n",
       "0   56    3        0          1    43740        1         3         6   \n",
       "1   46    4        1          2    39075        1        17         8   \n",
       "2   32    2        1          2     2956        1        28         5   \n",
       "3   60    0        1          0     8195        2        19         7   \n",
       "4   25    3        1          2    15076        0        14         5   \n",
       "\n",
       "   poutcome  purchase_product  purchase_service  purchase  \n",
       "0         1                 1                 0         1  \n",
       "1         0                 0                 0         0  \n",
       "2         2                 0                 1         2  \n",
       "3         2                 0                 0         0  \n",
       "4         1                 1                 1         3  "
      ]
     },
     "execution_count": 9,
     "metadata": {},
     "output_type": "execute_result"
    }
   ],
   "source": [
    "# Preprocessing: Encode categorical variables\n",
    "label_encoders = {}\n",
    "categorical_columns = [\"job\", \"marital\", \"education\", \"contact\", \"poutcome\"]\n",
    "for col in categorical_columns:\n",
    "    le = LabelEncoder()\n",
    "    data[col] = le.fit_transform(data[col])\n",
    "    label_encoders[col] = le\n",
    "data.head()  # Display the encoded data\n"
   ]
  },
  {
   "cell_type": "markdown",
   "id": "ed128c5c-7e7b-41d2-aa3b-507a3fe35e77",
   "metadata": {},
   "source": [
    "#### **Conclusion**\n",
    "- Categorical variables are encoded into numerical values using `LabelEncoder` to make them compatible with machine learning algorithms.\n",
    "- This step ensures that non-numeric columns such as \"job\" and \"education\" are transformed into numeric representations."
   ]
  },
  {
   "cell_type": "code",
   "execution_count": 11,
   "id": "13df8218-51af-4082-8a39-1b85f7c2ba66",
   "metadata": {},
   "outputs": [
    {
     "name": "stdout",
     "output_type": "stream",
     "text": [
      "Outliers:\n",
      "Empty DataFrame\n",
      "Columns: [age, job, marital, education, balance, contact, campaign, previous, poutcome, purchase_product, purchase_service, purchase]\n",
      "Index: []\n"
     ]
    }
   ],
   "source": [
    "# Outliers Detection\n",
    "# Calculate IQR\n",
    "Q1 = data['age'].quantile(0.25)\n",
    "Q3 = data['age'].quantile(0.75)\n",
    "IQR = Q3 - Q1\n",
    "\n",
    "# Define bounds\n",
    "lower_bound = Q1 - 1.5 * IQR\n",
    "upper_bound = Q3 + 1.5 * IQR\n",
    "\n",
    "# Detect outliers\n",
    "outliers = data[(data['age'] < lower_bound) | (data['age'] > upper_bound)]\n",
    "print(\"Outliers:\")\n",
    "print(outliers)\n"
   ]
  },
  {
   "cell_type": "code",
   "execution_count": 12,
   "id": "a9ba05ec-b8de-4081-afae-f43fed1834de",
   "metadata": {},
   "outputs": [],
   "source": [
    "# Combine the purchase columns into a single target 'purchase' column\n",
    "data['purchase'] = data['purchase_product'] * 1 + data['purchase_service'] * 2  # 1: Product, 2: Service, 0: No Purchase\n",
    "\n",
    "# Define features and target\n",
    "X = data.drop(columns=[\"purchase_product\", \"purchase_service\", \"purchase\"])  # Remove these columns from the Dataset and x is store all column except these tree columns \n",
    "y = data[\"purchase\"]  # Target: Whether the customer will purchase (1 = Product, 2 = Service, 0 = No Purchase)\n"
   ]
  },
  {
   "cell_type": "markdown",
   "id": "89024005-baf6-48f2-bf19-19164716d843",
   "metadata": {},
   "source": [
    "#### **Conclusion:**\r\n",
    "- A new target variable `purchase` is created, representing the type of purchase: 1 for Product, 2 for Service, and 0 for no purchase.\r\n",
    "- The features (`X`) are separated from the target (`y`) for model training.\r\n"
   ]
  },
  {
   "cell_type": "code",
   "execution_count": 13,
   "id": "55092e49-c1e6-4c69-b0c1-7327d0287c72",
   "metadata": {},
   "outputs": [],
   "source": [
    "# Split the data into training and testing sets\n",
    "X_train, X_test, y_train, y_test = train_test_split(X, y, test_size=0.3, random_state=42)\n",
    "\n",
    "\n",
    "# Address class imbalance using SMOTE\n",
    "smote = SMOTE(random_state=42)\n",
    "X_resampled, y_resampled = smote.fit_resample(X_train, y_train)  # Balance the X_train and y_train features"
   ]
  },
  {
   "cell_type": "markdown",
   "id": "0c87de94-f67c-4a1b-9875-3cc85bd840ec",
   "metadata": {},
   "source": [
    "#### **Conclusion**\n",
    "- SMOTE is applied to address class imbalance in the dataset. It generates synthetic samples for underrepresented classes, ensuring that the model does not become biased toward the majority class.\n"
   ]
  },
  {
   "cell_type": "code",
   "execution_count": 14,
   "id": "bcbe7849-ee4f-446a-9640-021efbdb5276",
   "metadata": {},
   "outputs": [
    {
     "data": {
      "text/html": [
       "<style>#sk-container-id-1 {color: black;background-color: white;}#sk-container-id-1 pre{padding: 0;}#sk-container-id-1 div.sk-toggleable {background-color: white;}#sk-container-id-1 label.sk-toggleable__label {cursor: pointer;display: block;width: 100%;margin-bottom: 0;padding: 0.3em;box-sizing: border-box;text-align: center;}#sk-container-id-1 label.sk-toggleable__label-arrow:before {content: \"▸\";float: left;margin-right: 0.25em;color: #696969;}#sk-container-id-1 label.sk-toggleable__label-arrow:hover:before {color: black;}#sk-container-id-1 div.sk-estimator:hover label.sk-toggleable__label-arrow:before {color: black;}#sk-container-id-1 div.sk-toggleable__content {max-height: 0;max-width: 0;overflow: hidden;text-align: left;background-color: #f0f8ff;}#sk-container-id-1 div.sk-toggleable__content pre {margin: 0.2em;color: black;border-radius: 0.25em;background-color: #f0f8ff;}#sk-container-id-1 input.sk-toggleable__control:checked~div.sk-toggleable__content {max-height: 200px;max-width: 100%;overflow: auto;}#sk-container-id-1 input.sk-toggleable__control:checked~label.sk-toggleable__label-arrow:before {content: \"▾\";}#sk-container-id-1 div.sk-estimator input.sk-toggleable__control:checked~label.sk-toggleable__label {background-color: #d4ebff;}#sk-container-id-1 div.sk-label input.sk-toggleable__control:checked~label.sk-toggleable__label {background-color: #d4ebff;}#sk-container-id-1 input.sk-hidden--visually {border: 0;clip: rect(1px 1px 1px 1px);clip: rect(1px, 1px, 1px, 1px);height: 1px;margin: -1px;overflow: hidden;padding: 0;position: absolute;width: 1px;}#sk-container-id-1 div.sk-estimator {font-family: monospace;background-color: #f0f8ff;border: 1px dotted black;border-radius: 0.25em;box-sizing: border-box;margin-bottom: 0.5em;}#sk-container-id-1 div.sk-estimator:hover {background-color: #d4ebff;}#sk-container-id-1 div.sk-parallel-item::after {content: \"\";width: 100%;border-bottom: 1px solid gray;flex-grow: 1;}#sk-container-id-1 div.sk-label:hover label.sk-toggleable__label {background-color: #d4ebff;}#sk-container-id-1 div.sk-serial::before {content: \"\";position: absolute;border-left: 1px solid gray;box-sizing: border-box;top: 0;bottom: 0;left: 50%;z-index: 0;}#sk-container-id-1 div.sk-serial {display: flex;flex-direction: column;align-items: center;background-color: white;padding-right: 0.2em;padding-left: 0.2em;position: relative;}#sk-container-id-1 div.sk-item {position: relative;z-index: 1;}#sk-container-id-1 div.sk-parallel {display: flex;align-items: stretch;justify-content: center;background-color: white;position: relative;}#sk-container-id-1 div.sk-item::before, #sk-container-id-1 div.sk-parallel-item::before {content: \"\";position: absolute;border-left: 1px solid gray;box-sizing: border-box;top: 0;bottom: 0;left: 50%;z-index: -1;}#sk-container-id-1 div.sk-parallel-item {display: flex;flex-direction: column;z-index: 1;position: relative;background-color: white;}#sk-container-id-1 div.sk-parallel-item:first-child::after {align-self: flex-end;width: 50%;}#sk-container-id-1 div.sk-parallel-item:last-child::after {align-self: flex-start;width: 50%;}#sk-container-id-1 div.sk-parallel-item:only-child::after {width: 0;}#sk-container-id-1 div.sk-dashed-wrapped {border: 1px dashed gray;margin: 0 0.4em 0.5em 0.4em;box-sizing: border-box;padding-bottom: 0.4em;background-color: white;}#sk-container-id-1 div.sk-label label {font-family: monospace;font-weight: bold;display: inline-block;line-height: 1.2em;}#sk-container-id-1 div.sk-label-container {text-align: center;}#sk-container-id-1 div.sk-container {/* jupyter's `normalize.less` sets `[hidden] { display: none; }` but bootstrap.min.css set `[hidden] { display: none !important; }` so we also need the `!important` here to be able to override the default hidden behavior on the sphinx rendered scikit-learn.org. See: https://github.com/scikit-learn/scikit-learn/issues/21755 */display: inline-block !important;position: relative;}#sk-container-id-1 div.sk-text-repr-fallback {display: none;}</style><div id=\"sk-container-id-1\" class=\"sk-top-container\"><div class=\"sk-text-repr-fallback\"><pre>DecisionTreeClassifier(random_state=42)</pre><b>In a Jupyter environment, please rerun this cell to show the HTML representation or trust the notebook. <br />On GitHub, the HTML representation is unable to render, please try loading this page with nbviewer.org.</b></div><div class=\"sk-container\" hidden><div class=\"sk-item\"><div class=\"sk-estimator sk-toggleable\"><input class=\"sk-toggleable__control sk-hidden--visually\" id=\"sk-estimator-id-1\" type=\"checkbox\" checked><label for=\"sk-estimator-id-1\" class=\"sk-toggleable__label sk-toggleable__label-arrow\">DecisionTreeClassifier</label><div class=\"sk-toggleable__content\"><pre>DecisionTreeClassifier(random_state=42)</pre></div></div></div></div></div>"
      ],
      "text/plain": [
       "DecisionTreeClassifier(random_state=42)"
      ]
     },
     "execution_count": 14,
     "metadata": {},
     "output_type": "execute_result"
    }
   ],
   "source": [
    "# Build and train the Decision Tree classifier model\n",
    "model = DecisionTreeClassifier(random_state=42)\n",
    "model.fit(X_resampled, y_resampled)\n"
   ]
  },
  {
   "cell_type": "code",
   "execution_count": 15,
   "id": "b5601b2d-adfb-4419-83be-122d537b140e",
   "metadata": {},
   "outputs": [
    {
     "name": "stdout",
     "output_type": "stream",
     "text": [
      "Prediction Accuracy after SMOTE: 0.25333333333333335\n",
      "              precision    recall  f1-score   support\n",
      "\n",
      "           0       0.40      0.34      0.37       119\n",
      "           1       0.17      0.19      0.18        47\n",
      "           2       0.27      0.21      0.23       101\n",
      "           3       0.08      0.15      0.10        33\n",
      "\n",
      "    accuracy                           0.25       300\n",
      "   macro avg       0.23      0.22      0.22       300\n",
      "weighted avg       0.28      0.25      0.26       300\n",
      "\n"
     ]
    }
   ],
   "source": [
    "# Make predictions\n",
    "y_pred = model.predict(X_test)\n",
    "\n",
    "# Evaluate the model\n",
    "print(\"Prediction Accuracy after SMOTE:\", accuracy_score(y_test, y_pred))\n",
    "print(classification_report(y_test, y_pred))\n"
   ]
  },
  {
   "cell_type": "markdown",
   "id": "a8064dd8-f66c-4aa9-8527-5ef0e2c740c3",
   "metadata": {},
   "source": [
    "#### **Conclusion:**\n",
    "- Predictions are made on the test set, and model performance is evaluated using accuracy and classification metrics (precision, recall, F1-score). This provides an indication of how well the model can generalize.\n"
   ]
  },
  {
   "cell_type": "code",
   "execution_count": 24,
   "id": "b9bbd006-e956-4161-9cc1-399731fc0701",
   "metadata": {},
   "outputs": [
    {
     "name": "stdout",
     "output_type": "stream",
     "text": [
      "Enter customer information for prediction:\n"
     ]
    },
    {
     "name": "stdin",
     "output_type": "stream",
     "text": [
      "Enter age:  56\n",
      "Enter job (admin, technician, blue-collar, management, services):  services\n",
      "Enter marital status (single, married, divorced):  divorced\n",
      "Enter education level (primary, secondary, tertiary):  secondary\n",
      "Enter account balance:  43740\n",
      "Enter contact type (cellular, telephone, unknown):  telephone\n",
      "Enter number of contacts in this campaign:  3\n",
      "Enter number of contacts in previous campaigns:  6\n",
      "Enter previous outcome (success, failure, unknown):  success\n"
     ]
    },
    {
     "name": "stdout",
     "output_type": "stream",
     "text": [
      "The customer is likely to purchase a Product.\n"
     ]
    }
   ],
   "source": [
    "# # User input for prediction\n",
    "def predict_customer_purchase():\n",
    "    print(\"Enter customer information for prediction:\")\n",
    "    \n",
    "    # Collect user input\n",
    "    age = int(input(\"Enter age: \"))\n",
    "    job = input(\"Enter job (admin, technician, blue-collar, management, services): \")\n",
    "    marital = input(\"Enter marital status (single, married, divorced): \")\n",
    "    education = input(\"Enter education level (primary, secondary, tertiary): \")\n",
    "    balance = float(input(\"Enter account balance: \"))\n",
    "    contact = input(\"Enter contact type (cellular, telephone, unknown): \")\n",
    "    campaign = int(input(\"Enter number of contacts in this campaign: \"))\n",
    "    previous = int(input(\"Enter number of contacts in previous campaigns: \"))\n",
    "    poutcome = input(\"Enter previous outcome (success, failure, unknown): \")\n",
    "    \n",
    "    # Encode categorical inputs using LabelEncoders\n",
    "    job = label_encoders[\"job\"].transform([job])[0]\n",
    "    marital = label_encoders[\"marital\"].transform([marital])[0]\n",
    "    education = label_encoders[\"education\"].transform([education])[0]\n",
    "    contact = label_encoders[\"contact\"].transform([contact])[0]\n",
    "    poutcome = label_encoders[\"poutcome\"].transform([poutcome])[0]\n",
    "   \n",
    "    # Create a DataFrame with the user's input\n",
    "    input_data = pd.DataFrame({\n",
    "        'age': [age],\n",
    "        'job': [job],\n",
    "        'marital': [marital],\n",
    "        'education': [education],\n",
    "        'balance': [balance],\n",
    "        'contact': [contact],\n",
    "        'campaign': [campaign],\n",
    "        'previous': [previous],\n",
    "        'poutcome': [poutcome]\n",
    "    })\n",
    "    \n",
    "    # Make a prediction\n",
    "    prediction = model.predict(input_data)\n",
    "    \n",
    "    if prediction == 1:\n",
    "        print(\"The customer is likely to purchase a Product.\")\n",
    "    elif prediction == 2:\n",
    "        print(\"The customer is likely to purchase a Service.\")\n",
    "    else:\n",
    "        print(\"The customer is unlikely to purchase either a Product or a Service.\")\n",
    "\n",
    "# Call the prediction function to get user input\n",
    "predict_customer_purchase()\n"
   ]
  },
  {
   "cell_type": "markdown",
   "id": "8b2d964a-4f48-4f20-b6e8-836012e6a3a2",
   "metadata": {},
   "source": [
    "#### **Conclusion:**\n",
    "- This function allows for real-time prediction of customer behavior based on input features like age, job, marital status, and more. It demonstrates how the trained model can be used to predict customer purchasing decisions.\n"
   ]
  },
  {
   "cell_type": "code",
   "execution_count": 25,
   "id": "dc1fd499-4e0a-45e5-b011-3b624c0375f9",
   "metadata": {},
   "outputs": [
    {
     "data": {
      "image/png": "[encoded data removed]",
      "text/plain": [
       "<Figure size 640x480 with 2 Axes>"
      ]
     },
     "metadata": {},
     "output_type": "display_data"
    }
   ],
   "source": [
    "from sklearn.metrics import confusion_matrix, ConfusionMatrixDisplay\n",
    "import matplotlib.pyplot as plt\n",
    "\n",
    "# Predicted and actual values\n",
    "y_pred = model.predict(X_test)\n",
    "cm = confusion_matrix(y_test, y_pred)\n",
    "\n",
    "disp = ConfusionMatrixDisplay(confusion_matrix=cm, display_labels=model.classes_)\n",
    "disp.plot(cmap=plt.cm.Blues)\n",
    "plt.title(\"Confusion Matrix\")\n",
    "plt.show()\n"
   ]
  },
  {
   "cell_type": "markdown",
   "id": "43cc7232-3dba-493f-9af4-1513ce2a0e59",
   "metadata": {},
   "source": [
    "\n",
    "## Conclusion and Insights\n",
    "\n",
    "- **Model Accuracy**: The model's prediction accuracy after addressing class imbalance using SMOTE was evaluated using classification metrics. The model's performance provides insights into its ability to correctly predict whether a customer is likely to purchase a product, service, or neither.\n",
    "\n",
    "- **Class Imbalance**: SMOTE (Synthetic Minority Over-sampling Technique) helped address class imbalance by generating synthetic samples of underrepresented classes, leading to a more balanced dataset and improved model performance.\n",
    "\n",
    "- **Decision Tree Performance**: The decision tree classifier performed reasonably well in predicting customer purchases based on features such as job, marital status, education, account balance, and campaign details.\n",
    "\n",
    "- **Customer Insights**: By providing a user input interface, we can predict the likelihood of a customer purchasing a product or service based on various attributes. This can be used by businesses for targeted marketing strategies and resource allocation.\n",
    "\n",
    "Future steps could include further tuning of the decision tree hyperparameters and trying more complex models like Random Forest or XGBoost for potentially improved performance.\n"
   ]
  },
  {
   "cell_type": "code",
   "execution_count": null,
   "id": "aa5216d3-d235-4067-9a25-1fa5fef6e37b",
   "metadata": {},
   "outputs": [],
   "source": []
  }
 ],
 "metadata": {
  "kernelspec": {
   "display_name": "Python 3 (ipykernel)",
   "language": "python",
   "name": "python3"
  },
  "language_info": {
   "codemirror_mode": {
    "name": "ipython",
    "version": 3
   },
   "file_extension": ".py",
   "mimetype": "text/x-python",
   "name": "python",
   "nbconvert_exporter": "python",
   "pygments_lexer": "ipython3",
   "version": "3.11.7"
  },
  "widgets": {
   "application/vnd.jupyter.widget-state+json": {
    "state": {},
    "version_major": 2,
    "version_minor": 0
   }
  }
 },
 "nbformat": 4,
 "nbformat_minor": 5
}
